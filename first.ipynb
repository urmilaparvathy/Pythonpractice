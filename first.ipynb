{
 "cells": [
  {
   "cell_type": "code",
   "execution_count": 1,
   "id": "1c7052ec-ebea-4fc2-a971-c7464f44c47a",
   "metadata": {},
   "outputs": [
    {
     "name": "stdout",
     "output_type": "stream",
     "text": [
      "Hello World!\n"
     ]
    }
   ],
   "source": [
    "print('Hello World!')"
   ]
  },
  {
   "cell_type": "code",
   "execution_count": 2,
   "id": "15f05f35-b5c4-46c0-bd2b-4abd28ac3d4c",
   "metadata": {},
   "outputs": [
    {
     "name": "stdout",
     "output_type": "stream",
     "text": [
      "Hello World!\n"
     ]
    }
   ],
   "source": [
    "print(\"Hello\", \"World!\")"
   ]
  },
  {
   "cell_type": "code",
   "execution_count": 3,
   "id": "997917d4-7066-4d35-9b2e-3b0ea7baabe0",
   "metadata": {},
   "outputs": [
    {
     "name": "stdout",
     "output_type": "stream",
     "text": [
      "Hello;World!\n"
     ]
    }
   ],
   "source": [
    "print(\"Hello\",\"World!\",sep=\";\")"
   ]
  },
  {
   "cell_type": "code",
   "execution_count": 4,
   "id": "b7224a54-776d-4ff2-83e2-2318cdbe3c7f",
   "metadata": {},
   "outputs": [
    {
     "name": "stdout",
     "output_type": "stream",
     "text": [
      "Hello;World!\n",
      "\n"
     ]
    }
   ],
   "source": [
    "print(\"Hello\",\"World!\",sep=\";\",end='\\n\\n')"
   ]
  },
  {
   "cell_type": "code",
   "execution_count": 5,
   "id": "9bd2358f-95bf-4040-ad71-61e1f610d79d",
   "metadata": {},
   "outputs": [
    {
     "name": "stdout",
     "output_type": "stream",
     "text": [
      "Enter your name\n"
     ]
    },
    {
     "name": "stdin",
     "output_type": "stream",
     "text": [
      "Enter your name:  Urmila Matondkar\n"
     ]
    },
    {
     "name": "stdout",
     "output_type": "stream",
     "text": [
      "Hello Urmila Matondkar ! Welcome to the world of python\n"
     ]
    }
   ],
   "source": [
    "print(\"Enter your name\")\n",
    "name = input(\"Enter your name: \")\n",
    "print(\"Hello\", name, \"! Welcome to the world of python\")"
   ]
  },
  {
   "cell_type": "code",
   "execution_count": 6,
   "id": "e588e960-9f4e-4277-afb4-46aaf0b22d04",
   "metadata": {},
   "outputs": [
    {
     "data": {
      "text/plain": [
       "2"
      ]
     },
     "execution_count": 6,
     "metadata": {},
     "output_type": "execute_result"
    }
   ],
   "source": [
    "1+1"
   ]
  },
  {
   "cell_type": "code",
   "execution_count": 7,
   "id": "f8cc0e94-aaa9-4b3c-b607-7c4cb3bbc826",
   "metadata": {},
   "outputs": [
    {
     "data": {
      "text/plain": [
       "6"
      ]
     },
     "execution_count": 7,
     "metadata": {},
     "output_type": "execute_result"
    }
   ],
   "source": [
    "1+5"
   ]
  },
  {
   "cell_type": "code",
   "execution_count": 8,
   "id": "62c7925d-5276-49aa-95db-1aeaf68f54d0",
   "metadata": {},
   "outputs": [
    {
     "data": {
      "text/plain": [
       "0.5"
      ]
     },
     "execution_count": 8,
     "metadata": {},
     "output_type": "execute_result"
    }
   ],
   "source": [
    "1/2"
   ]
  },
  {
   "cell_type": "code",
   "execution_count": 9,
   "id": "21795e37-34fc-43d3-9e4a-adbd03b7cd0d",
   "metadata": {},
   "outputs": [
    {
     "data": {
      "text/plain": [
       "4.6"
      ]
     },
     "execution_count": 9,
     "metadata": {},
     "output_type": "execute_result"
    }
   ],
   "source": [
    "23/5"
   ]
  },
  {
   "cell_type": "code",
   "execution_count": 10,
   "id": "39693f3f-fee9-48a9-925b-8534fe0835a1",
   "metadata": {},
   "outputs": [
    {
     "data": {
      "text/plain": [
       "4"
      ]
     },
     "execution_count": 10,
     "metadata": {},
     "output_type": "execute_result"
    }
   ],
   "source": [
    "23//5"
   ]
  },
  {
   "cell_type": "code",
   "execution_count": 11,
   "id": "6508a40a-2d43-4396-93d7-a08875903676",
   "metadata": {},
   "outputs": [
    {
     "data": {
      "text/plain": [
       "5"
      ]
     },
     "execution_count": 11,
     "metadata": {},
     "output_type": "execute_result"
    }
   ],
   "source": [
    "round(23/5)"
   ]
  },
  {
   "cell_type": "code",
   "execution_count": 12,
   "id": "cccb8c48-dc77-4fa5-90cf-0313877a8c88",
   "metadata": {},
   "outputs": [
    {
     "data": {
      "text/plain": [
       "\u001b[1;31mSignature:\u001b[0m \u001b[0mprint\u001b[0m\u001b[1;33m(\u001b[0m\u001b[1;33m*\u001b[0m\u001b[0margs\u001b[0m\u001b[1;33m,\u001b[0m \u001b[0msep\u001b[0m\u001b[1;33m=\u001b[0m\u001b[1;34m' '\u001b[0m\u001b[1;33m,\u001b[0m \u001b[0mend\u001b[0m\u001b[1;33m=\u001b[0m\u001b[1;34m'\\n'\u001b[0m\u001b[1;33m,\u001b[0m \u001b[0mfile\u001b[0m\u001b[1;33m=\u001b[0m\u001b[1;32mNone\u001b[0m\u001b[1;33m,\u001b[0m \u001b[0mflush\u001b[0m\u001b[1;33m=\u001b[0m\u001b[1;32mFalse\u001b[0m\u001b[1;33m)\u001b[0m\u001b[1;33m\u001b[0m\u001b[1;33m\u001b[0m\u001b[0m\n",
       "\u001b[1;31mDocstring:\u001b[0m\n",
       "Prints the values to a stream, or to sys.stdout by default.\n",
       "\n",
       "sep\n",
       "  string inserted between values, default a space.\n",
       "end\n",
       "  string appended after the last value, default a newline.\n",
       "file\n",
       "  a file-like object (stream); defaults to the current sys.stdout.\n",
       "flush\n",
       "  whether to forcibly flush the stream.\n",
       "\u001b[1;31mType:\u001b[0m      builtin_function_or_method"
      ]
     },
     "metadata": {},
     "output_type": "display_data"
    }
   ],
   "source": [
    "print?"
   ]
  },
  {
   "cell_type": "code",
   "execution_count": 14,
   "id": "c6f65342-fdb9-4b8d-bc07-3775141e6596",
   "metadata": {},
   "outputs": [],
   "source": [
    "with open(\"test.txt\", \"w\") as f:\n",
    "    print(\"hellow world\", file=f)"
   ]
  },
  {
   "cell_type": "code",
   "execution_count": 17,
   "id": "15f34e38-5177-4057-b5ae-bedb43b74317",
   "metadata": {},
   "outputs": [
    {
     "data": {
      "text/plain": [
       "'hellowworld'"
      ]
     },
     "execution_count": 17,
     "metadata": {},
     "output_type": "execute_result"
    }
   ],
   "source": [
    "\"hellow\"+\"world\""
   ]
  },
  {
   "cell_type": "code",
   "execution_count": 18,
   "id": "155e8bd3-5526-4066-b7a0-043a7c18646a",
   "metadata": {},
   "outputs": [
    {
     "ename": "TypeError",
     "evalue": "can only concatenate str (not \"int\") to str",
     "output_type": "error",
     "traceback": [
      "\u001b[1;31m---------------------------------------------------------------------------\u001b[0m",
      "\u001b[1;31mTypeError\u001b[0m                                 Traceback (most recent call last)",
      "Cell \u001b[1;32mIn[18], line 1\u001b[0m\n\u001b[1;32m----> 1\u001b[0m \u001b[38;5;124;43m\"\u001b[39;49m\u001b[38;5;124;43mhellow\u001b[39;49m\u001b[38;5;124;43m\"\u001b[39;49m\u001b[38;5;241;43m+\u001b[39;49m\u001b[38;5;241;43m3\u001b[39;49m\n",
      "\u001b[1;31mTypeError\u001b[0m: can only concatenate str (not \"int\") to str"
     ]
    }
   ],
   "source": [
    "\"hellow\"+3"
   ]
  },
  {
   "cell_type": "code",
   "execution_count": 19,
   "id": "db1ee43f-43dc-47b7-a81f-8430ccad79e1",
   "metadata": {},
   "outputs": [
    {
     "data": {
      "text/plain": [
       "'hellow3'"
      ]
     },
     "execution_count": 19,
     "metadata": {},
     "output_type": "execute_result"
    }
   ],
   "source": [
    "\"hellow\"+\"3\""
   ]
  },
  {
   "cell_type": "code",
   "execution_count": 20,
   "id": "426ed62c-7cc3-4c2f-a237-35c7f64c95b9",
   "metadata": {},
   "outputs": [
    {
     "data": {
      "text/plain": [
       "'hellow3'"
      ]
     },
     "execution_count": 20,
     "metadata": {},
     "output_type": "execute_result"
    }
   ],
   "source": [
    "\"hellow\"+str(3)"
   ]
  },
  {
   "cell_type": "code",
   "execution_count": 23,
   "id": "1cfbcf15-26a9-4b7c-8d71-9688e4ec3073",
   "metadata": {},
   "outputs": [
    {
     "data": {
      "text/plain": [
       "'Hellow3'"
      ]
     },
     "execution_count": 23,
     "metadata": {},
     "output_type": "execute_result"
    }
   ],
   "source": [
    "i = 3\n",
    "\"Hellow\"+str(i)"
   ]
  },
  {
   "cell_type": "code",
   "execution_count": 24,
   "id": "5645fd2f-4c02-4b03-9fbc-c796d7458fd7",
   "metadata": {},
   "outputs": [
    {
     "data": {
      "text/plain": [
       "228.0"
      ]
     },
     "execution_count": 24,
     "metadata": {},
     "output_type": "execute_result"
    }
   ],
   "source": [
    "2**8/2+100"
   ]
  },
  {
   "cell_type": "code",
   "execution_count": 25,
   "id": "93af27b6-d403-4d6e-a7fb-13a25a104030",
   "metadata": {},
   "outputs": [
    {
     "data": {
      "text/plain": [
       "256"
      ]
     },
     "execution_count": 25,
     "metadata": {},
     "output_type": "execute_result"
    }
   ],
   "source": [
    "2**8"
   ]
  },
  {
   "cell_type": "code",
   "execution_count": 26,
   "id": "5dffecdf-9dbb-4056-bbfc-25c971e40218",
   "metadata": {},
   "outputs": [
    {
     "data": {
      "text/plain": [
       "128.0"
      ]
     },
     "execution_count": 26,
     "metadata": {},
     "output_type": "execute_result"
    }
   ],
   "source": [
    "256/2"
   ]
  },
  {
   "cell_type": "code",
   "execution_count": 27,
   "id": "a70f5e52-c155-4259-86cb-257a858aeaa6",
   "metadata": {},
   "outputs": [
    {
     "data": {
      "text/plain": [
       "'This is a string in Python'"
      ]
     },
     "execution_count": 27,
     "metadata": {},
     "output_type": "execute_result"
    }
   ],
   "source": [
    "\"This is a string in Python\""
   ]
  },
  {
   "cell_type": "code",
   "execution_count": 28,
   "id": "2440f0c3-b59b-45a7-97b1-0f5d59d21cab",
   "metadata": {},
   "outputs": [
    {
     "data": {
      "text/plain": [
       "'This is a string in Python'"
      ]
     },
     "execution_count": 28,
     "metadata": {},
     "output_type": "execute_result"
    }
   ],
   "source": [
    "'This is a string in Python'"
   ]
  },
  {
   "cell_type": "code",
   "execution_count": 29,
   "id": "7843ecb5-cbaf-4d70-9b37-acee5bec9908",
   "metadata": {},
   "outputs": [
    {
     "data": {
      "text/plain": [
       "'This is a string in Python'"
      ]
     },
     "execution_count": 29,
     "metadata": {},
     "output_type": "execute_result"
    }
   ],
   "source": [
    "'''This is a string in Python'''"
   ]
  },
  {
   "cell_type": "code",
   "execution_count": 30,
   "id": "3484813d-bfbf-4daa-8742-94d0b6ef0a3b",
   "metadata": {},
   "outputs": [
    {
     "data": {
      "text/plain": [
       "'This is a string in Python'"
      ]
     },
     "execution_count": 30,
     "metadata": {},
     "output_type": "execute_result"
    }
   ],
   "source": [
    "\"\"\"This is a string in Python\"\"\""
   ]
  },
  {
   "cell_type": "code",
   "execution_count": 32,
   "id": "e68faf62-adeb-49b2-be77-f3ee432c07ae",
   "metadata": {},
   "outputs": [
    {
     "data": {
      "text/plain": [
       "'A single quote (’) inside a double quote'"
      ]
     },
     "execution_count": 32,
     "metadata": {},
     "output_type": "execute_result"
    }
   ],
   "source": [
    "\"A single quote (’) inside a double quote\""
   ]
  },
  {
   "cell_type": "code",
   "execution_count": 33,
   "id": "93d5d2e7-8044-4f8c-a321-007becf49faf",
   "metadata": {},
   "outputs": [
    {
     "data": {
      "text/plain": [
       "'Here we have \"double quotes\" inside single quotes'"
      ]
     },
     "execution_count": 33,
     "metadata": {},
     "output_type": "execute_result"
    }
   ],
   "source": [
    "'Here we have \"double quotes\" inside single quotes'"
   ]
  },
  {
   "cell_type": "code",
   "execution_count": 34,
   "id": "0b62e65d-8aa0-4b81-b8f3-dba92eba35a6",
   "metadata": {},
   "outputs": [
    {
     "data": {
      "text/plain": [
       "\"Hi! I'm a\\nmultiline\\n          string\""
      ]
     },
     "execution_count": 34,
     "metadata": {},
     "output_type": "execute_result"
    }
   ],
   "source": [
    "\"\"\"Hi! I'm a\n",
    "multiline\n",
    "          string\"\"\""
   ]
  },
  {
   "cell_type": "code",
   "execution_count": 35,
   "id": "742db8f4-1b8a-4a58-9bae-c72859d870ca",
   "metadata": {},
   "outputs": [],
   "source": [
    "signal_peptide = 'MASKATLLLAFTLLFATCIA'"
   ]
  },
  {
   "cell_type": "code",
   "execution_count": 36,
   "id": "ffd3aa81-f5bf-40fd-85f8-30691b514b6b",
   "metadata": {},
   "outputs": [
    {
     "data": {
      "text/plain": [
       "'maskatlllaftllfatcia'"
      ]
     },
     "execution_count": 36,
     "metadata": {},
     "output_type": "execute_result"
    }
   ],
   "source": [
    "signal_peptide.lower()"
   ]
  },
  {
   "cell_type": "code",
   "execution_count": 37,
   "id": "fa7d4e5e-051f-40f7-96cb-6c71dd04b481",
   "metadata": {},
   "outputs": [
    {
     "data": {
      "text/plain": [
       "'MASKATLLLAFTLLFATCIA'"
      ]
     },
     "execution_count": 37,
     "metadata": {},
     "output_type": "execute_result"
    }
   ],
   "source": [
    "signal_peptide"
   ]
  },
  {
   "cell_type": "code",
   "execution_count": 38,
   "id": "08ad1fd3-87bf-40aa-a6d3-2d7c1f789def",
   "metadata": {},
   "outputs": [],
   "source": [
    "signal_peptide = signal_peptide.lower()"
   ]
  },
  {
   "cell_type": "code",
   "execution_count": 39,
   "id": "b423b32c-ef16-44f6-99df-d7b87fd501e7",
   "metadata": {},
   "outputs": [
    {
     "data": {
      "text/plain": [
       "'maskatlllaftllfatcia'"
      ]
     },
     "execution_count": 39,
     "metadata": {},
     "output_type": "execute_result"
    }
   ],
   "source": [
    "signal_peptide"
   ]
  },
  {
   "cell_type": "code",
   "execution_count": 40,
   "id": "9441151d-4a99-4f58-8bcc-8f6d0f342106",
   "metadata": {},
   "outputs": [
    {
     "data": {
      "text/plain": [
       "'GCUAGUAAUGUG'"
      ]
     },
     "execution_count": 40,
     "metadata": {},
     "output_type": "execute_result"
    }
   ],
   "source": [
    "dna_seq = 'GCTAGTAATGTG'\n",
    "m_rna_seq = dna_seq.replace('T','U')\n",
    "m_rna_seq"
   ]
  },
  {
   "cell_type": "code",
   "execution_count": 41,
   "id": "8cefcd69-7896-4014-8dd2-eb0c1a31591b",
   "metadata": {},
   "outputs": [
    {
     "name": "stdout",
     "output_type": "stream",
     "text": [
      "GCUAGUAAUGUG\n"
     ]
    }
   ],
   "source": [
    "print(m_rna_seq)"
   ]
  },
  {
   "cell_type": "code",
   "execution_count": 42,
   "id": "fa445b4b-8dd3-48e1-ab09-25ab9d5a92e0",
   "metadata": {},
   "outputs": [
    {
     "data": {
      "text/plain": [
       "41.66666666666667"
      ]
     },
     "execution_count": 42,
     "metadata": {},
     "output_type": "execute_result"
    }
   ],
   "source": [
    "c = dna_seq.count(\"C\")\n",
    "g = dna_seq.count(\"G\")\n",
    "(c+g)/len(dna_seq)*100"
   ]
  },
  {
   "cell_type": "code",
   "execution_count": 43,
   "id": "1441015e-687b-4caf-89b2-820baf44f0f2",
   "metadata": {},
   "outputs": [
    {
     "data": {
      "text/plain": [
       "'GCUAGUAAUGUG'"
      ]
     },
     "execution_count": 43,
     "metadata": {},
     "output_type": "execute_result"
    }
   ],
   "source": [
    "m_rna_seq"
   ]
  },
  {
   "cell_type": "code",
   "execution_count": 44,
   "id": "28d6713b-82ae-44b6-8a33-5ca30d5e4f17",
   "metadata": {},
   "outputs": [
    {
     "data": {
      "text/plain": [
       "7"
      ]
     },
     "execution_count": 44,
     "metadata": {},
     "output_type": "execute_result"
    }
   ],
   "source": [
    "m_rna_seq.find('AUG')"
   ]
  },
  {
   "cell_type": "code",
   "execution_count": 45,
   "id": "58869bc5-8533-4d45-8875-7fb5599a67b5",
   "metadata": {},
   "outputs": [
    {
     "data": {
      "text/plain": [
       "-1"
      ]
     },
     "execution_count": 45,
     "metadata": {},
     "output_type": "execute_result"
    }
   ],
   "source": [
    "m_rna_seq.find('GGG')"
   ]
  },
  {
   "cell_type": "code",
   "execution_count": 46,
   "id": "7b01f38d-0b2e-4add-88e4-23f8b446f8bf",
   "metadata": {},
   "outputs": [
    {
     "data": {
      "text/plain": [
       "['This', 'string', 'has', 'words', 'separated', 'by', 'spaces']"
      ]
     },
     "execution_count": 46,
     "metadata": {},
     "output_type": "execute_result"
    }
   ],
   "source": [
    "'This string has words separated by spaces'.split()"
   ]
  },
  {
   "cell_type": "code",
   "execution_count": 47,
   "id": "95da3c30-9f01-4fef-9f3d-8cd92c792a9a",
   "metadata": {},
   "outputs": [
    {
     "data": {
      "text/plain": [
       "7"
      ]
     },
     "execution_count": 47,
     "metadata": {},
     "output_type": "execute_result"
    }
   ],
   "source": [
    "len('This string has words separated by spaces'.split())"
   ]
  },
  {
   "cell_type": "code",
   "execution_count": 48,
   "id": "c5b6f4fc-507e-4615-a569-21d9e0c78dc7",
   "metadata": {},
   "outputs": [
    {
     "data": {
      "text/plain": [
       "41"
      ]
     },
     "execution_count": 48,
     "metadata": {},
     "output_type": "execute_result"
    }
   ],
   "source": [
    "len('This string has words separated by spaces')"
   ]
  },
  {
   "cell_type": "code",
   "execution_count": 50,
   "id": "458c5f14-bc01-44d2-8020-97f0d49a038d",
   "metadata": {},
   "outputs": [
    {
     "data": {
      "text/plain": [
       "['Alex Doe', '5555-2333', 'nobody@example.com']"
      ]
     },
     "execution_count": 50,
     "metadata": {},
     "output_type": "execute_result"
    }
   ],
   "source": [
    "\"Alex Doe,5555-2333,nobody@example.com\".split(\",\")"
   ]
  },
  {
   "cell_type": "code",
   "execution_count": 51,
   "id": "eb6a611f-70fc-4785-93ec-57d5fc89d12f",
   "metadata": {},
   "outputs": [
    {
     "ename": "NameError",
     "evalue": "name 'join' is not defined",
     "output_type": "error",
     "traceback": [
      "\u001b[1;31m---------------------------------------------------------------------------\u001b[0m",
      "\u001b[1;31mNameError\u001b[0m                                 Traceback (most recent call last)",
      "Cell \u001b[1;32mIn[51], line 1\u001b[0m\n\u001b[1;32m----> 1\u001b[0m \u001b[43mjoin\u001b[49m([\u001b[38;5;124m'\u001b[39m\u001b[38;5;124mA\u001b[39m\u001b[38;5;124m'\u001b[39m,\u001b[38;5;124m'\u001b[39m\u001b[38;5;124mC\u001b[39m\u001b[38;5;124m'\u001b[39m,\u001b[38;5;124m'\u001b[39m\u001b[38;5;124mA\u001b[39m\u001b[38;5;124m'\u001b[39m,\u001b[38;5;124m'\u001b[39m\u001b[38;5;124mT\u001b[39m\u001b[38;5;124m'\u001b[39m])\n",
      "\u001b[1;31mNameError\u001b[0m: name 'join' is not defined"
     ]
    }
   ],
   "source": [
    "\"ATGjoin(['A','C','A','T'])"
   ]
  },
  {
   "cell_type": "code",
   "execution_count": 1,
   "id": "388f8230-b0b1-4525-a479-9cebac687aa1",
   "metadata": {},
   "outputs": [
    {
     "ename": "SyntaxError",
     "evalue": "Missing parentheses in call to 'print'. Did you mean print(...)? (357452326.py, line 1)",
     "output_type": "error",
     "traceback": [
      "\u001b[1;36m  Cell \u001b[1;32mIn[1], line 1\u001b[1;36m\u001b[0m\n\u001b[1;33m    print \"hi\"\u001b[0m\n\u001b[1;37m    ^\u001b[0m\n\u001b[1;31mSyntaxError\u001b[0m\u001b[1;31m:\u001b[0m Missing parentheses in call to 'print'. Did you mean print(...)?\n"
     ]
    }
   ],
   "source": [
    "print \"hi\""
   ]
  },
  {
   "cell_type": "code",
   "execution_count": 2,
   "id": "40f5dcdd-d9dd-4b28-997c-3a6aa1c15965",
   "metadata": {},
   "outputs": [
    {
     "ename": "SyntaxError",
     "evalue": "invalid syntax (352852546.py, line 1)",
     "output_type": "error",
     "traceback": [
      "\u001b[1;36m  Cell \u001b[1;32mIn[2], line 1\u001b[1;36m\u001b[0m\n\u001b[1;33m    print() \"hi\"\u001b[0m\n\u001b[1;37m            ^\u001b[0m\n\u001b[1;31mSyntaxError\u001b[0m\u001b[1;31m:\u001b[0m invalid syntax\n"
     ]
    }
   ],
   "source": [
    "print() \"hi\""
   ]
  },
  {
   "cell_type": "code",
   "execution_count": 3,
   "id": "a4641710-b3f5-415a-95c2-7d9883b30054",
   "metadata": {},
   "outputs": [
    {
     "name": "stdout",
     "output_type": "stream",
     "text": [
      "hi\n"
     ]
    }
   ],
   "source": [
    " print(\"hi\")"
   ]
  },
  {
   "cell_type": "code",
   "execution_count": null,
   "id": "90a1ba2b-8e90-4c98-abc3-e31baf128492",
   "metadata": {},
   "outputs": [],
   "source": []
  }
 ],
 "metadata": {
  "kernelspec": {
   "display_name": "Python 3 (ipykernel)",
   "language": "python",
   "name": "python3"
  },
  "language_info": {
   "codemirror_mode": {
    "name": "ipython",
    "version": 3
   },
   "file_extension": ".py",
   "mimetype": "text/x-python",
   "name": "python",
   "nbconvert_exporter": "python",
   "pygments_lexer": "ipython3",
   "version": "3.12.1"
  }
 },
 "nbformat": 4,
 "nbformat_minor": 5
}
